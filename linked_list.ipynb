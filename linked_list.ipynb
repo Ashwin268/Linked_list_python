{
 "cells": [
  {
   "cell_type": "code",
   "execution_count": null,
   "metadata": {
    "id": "fmt8aQEaAvSQ"
   },
   "outputs": [],
   "source": [
    "class Node:\n",
    "  def __init__(self,value):\n",
    "    self.data = value\n",
    "    self.next = None\n"
   ]
  },
  {
   "cell_type": "code",
   "execution_count": null,
   "metadata": {
    "id": "5-brbTq8BH5q"
   },
   "outputs": [],
   "source": [
    "class Linkedlist:\n",
    "  def __init__(self):\n",
    "    #creating an empty linkedlist\n",
    "    self.head = None\n",
    "    self.n = 0\n",
    "\n",
    "  def __len__(self):\n",
    "    return self.n\n",
    "\n",
    "  def insert_head(self,value):\n",
    "    #new node created using node class object\n",
    "    new_node = Node(value)\n",
    "    new_node.next = self.head\n",
    "    self.head = new_node\n",
    "    self.n += 1\n",
    "\n",
    "  def append(self,value):\n",
    "    new_node = Node(value)\n",
    "    if self.head == None:\n",
    "      self.head = new_node\n",
    "    else:\n",
    "      curr = self.head\n",
    "      while curr.next != None:\n",
    "        curr = curr.next\n",
    "      curr.next = new_node\n",
    "    self.n += 1\n",
    "\n",
    "\n",
    "  def traverse(self):\n",
    "    curr = self.head\n",
    "    while curr != None:\n",
    "      print(curr.data)\n",
    "      curr = curr.next\n",
    "\n",
    "  def __str__(self):\n",
    "    curr = self.head\n",
    "    result = \"\"\n",
    "    while curr != None:\n",
    "      result += str(curr.data) + \"->\"\n",
    "      curr = curr.next\n",
    "    return result[:-2]"
   ]
  },
  {
   "cell_type": "code",
   "execution_count": null,
   "metadata": {
    "colab": {
     "base_uri": "https://localhost:8080/"
    },
    "id": "FxHkCgYHBdgz",
    "outputId": "abad9df8-1b75-4959-f53c-ddc09d65ee34"
   },
   "outputs": [
    {
     "data": {
      "text/plain": [
       "<__main__.Linkedlist at 0x78933ac7dc50>"
      ]
     },
     "execution_count": 6,
     "metadata": {},
     "output_type": "execute_result"
    }
   ],
   "source": [
    "l = Linkedlist()\n",
    "l\n"
   ]
  },
  {
   "cell_type": "code",
   "execution_count": null,
   "metadata": {
    "colab": {
     "base_uri": "https://localhost:8080/"
    },
    "id": "QAOQ-tgMB_gU",
    "outputId": "07729022-f78c-484d-8062-f497857a21bc"
   },
   "outputs": [
    {
     "data": {
      "text/plain": [
       "8"
      ]
     },
     "execution_count": 19,
     "metadata": {},
     "output_type": "execute_result"
    }
   ],
   "source": [
    "len(l)"
   ]
  },
  {
   "cell_type": "code",
   "execution_count": null,
   "metadata": {
    "id": "DgPvcNnRCDzK"
   },
   "outputs": [],
   "source": [
    "l.insert_head(1)\n",
    "l.insert_head(2)\n",
    "l.insert_head(3)\n",
    "l.insert_head(4)\n",
    "l.insert_head(5)\n"
   ]
  },
  {
   "cell_type": "code",
   "execution_count": null,
   "metadata": {
    "colab": {
     "base_uri": "https://localhost:8080/"
    },
    "id": "W8ruXeg-C4NI",
    "outputId": "9e07261b-011b-4dbf-8a6e-9e34522f35e6"
   },
   "outputs": [
    {
     "name": "stdout",
     "output_type": "stream",
     "text": [
      "6\n",
      "5\n",
      "4\n",
      "3\n",
      "2\n",
      "1\n",
      "10\n",
      "11\n"
     ]
    }
   ],
   "source": [
    "l.traverse()"
   ]
  },
  {
   "cell_type": "code",
   "execution_count": null,
   "metadata": {
    "colab": {
     "base_uri": "https://localhost:8080/"
    },
    "id": "-WKpqrDWDnMa",
    "outputId": "f9c36041-1e69-498a-ee50-98322576c8be"
   },
   "outputs": [
    {
     "name": "stdout",
     "output_type": "stream",
     "text": [
      "6->5->4->3->2->1->10->11\n"
     ]
    }
   ],
   "source": [
    "print(l)"
   ]
  },
  {
   "cell_type": "code",
   "execution_count": null,
   "metadata": {
    "id": "6eajQGG8Elcn"
   },
   "outputs": [],
   "source": [
    "l.insert_head(6)"
   ]
  },
  {
   "cell_type": "code",
   "execution_count": null,
   "metadata": {
    "id": "htvN_dP2qTHE"
   },
   "outputs": [],
   "source": []
  }
 ],
 "metadata": {
  "colab": {
   "provenance": []
  },
  "kernelspec": {
   "display_name": "Python 3",
   "name": "python3"
  },
  "language_info": {
   "name": "python"
  }
 },
 "nbformat": 4,
 "nbformat_minor": 0
}
